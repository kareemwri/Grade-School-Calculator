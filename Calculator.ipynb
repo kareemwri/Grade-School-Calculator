{
 "cells": [
  {
   "cell_type": "code",
   "execution_count": null,
   "metadata": {},
   "outputs": [],
   "source": [
    "def calc(x,y,operator):\n",
    "    if operator==1:\n",
    "        print(\"{:,}\".format(x*y))\n",
    "    elif operator==2:\n",
    "        if x%y==0:\n",
    "            print(\"{:,}\".format(x/y))\n",
    "        elif x%y!=0:\n",
    "            remainder=x%y\n",
    "            x=x-remainder\n",
    "            ans=x/y\n",
    "            print(\"{:,}\".format(ans),' R ',remainder)\n",
    "    elif operator==3:\n",
    "        print(x+y)\n",
    "    elif operator==4:\n",
    "        print(x-y)\n",
    "    elif operator==5: \n",
    "        for n in range(1000):\n",
    "            if (x%2==0) and (y%2==0):\n",
    "                y=y/2\n",
    "                x=x/2\n",
    "                if n==0:\n",
    "                    if (x%2!=0) and (y%2!=0):\n",
    "                        print(' ',\"{:,}\".format(x),'\\n','------\\n',\"{:,}\".format(y))\n",
    "                        break\n",
    "            else:\n",
    "                print('Can not be reduced.\\n',' ',\"{:,}\".format(x),'\\n','------\\n',\"{:,}\".format(y))\n",
    "                break\n",
    "    \n",
    "def fractions():\n",
    "    print('PLEASE ENTER FRACTION LIKE THIS ->  1/2   ')\n",
    "    a=input('Enter first fraction:\\n')\n",
    "    b=input('Enter second fraction:\\n')\n",
    "    sign=int(input('Enter 1 for addition and 2 for subtraction:\\n'))\n",
    "\n",
    "    a=a.split('/')\n",
    "    b=b.split('/')\n",
    "    c=[]\n",
    "    d=[]\n",
    "    temp1=[]\n",
    "    temp2=[]\n",
    "    for item in a:\n",
    "        c.append(int(item))\n",
    "    for item in b:\n",
    "        d.append(int(item))\n",
    "    temp1.append(c[1]*d[0])\n",
    "    temp1.append(c[1]*d[1])\n",
    "    temp2.append(d[1]*c[0])\n",
    "    temp2.append(d[1]*c[1])\n",
    "    if sign==1:    \n",
    "        numerator=temp1[0]+temp2[0]\n",
    "        denominator=temp1[0]\n",
    "        print(' ',numerator,'\\n','------\\n',denominator)\n",
    "        reduce=input('Do you want to reduce the fraction?\\n')\n",
    "        if reduce=='yes':\n",
    "            calc(numerator,denominator,5)\n",
    "    if sign==2:\n",
    "        numerator=temp1[0]-temp2[0]\n",
    "        if numerator==0:\n",
    "            print('The answer is ZERO!!!')\n",
    "        elif numerator !=0:\n",
    "            denominator=temp1[0]\n",
    "            print(' ',numerator,'\\n','------\\n',denominator)\n",
    "            reduce=input('Do you want to reduce the fraction?\\n')\n",
    "            if reduce=='yes':\n",
    "                calc(numerator,denominator,5)\n",
    "            \n",
    "def start_calc():\n",
    "    operator=int(input('Choose your operator:\\n'))\n",
    "    if operator>5:\n",
    "        fractions()\n",
    "    else:\n",
    "        first_Number=int(input('Enter first number\\n'))\n",
    "        second_Number=int(input('Enter second number\\n'))\n",
    "        calc(first_Number,second_Number,operator)"
   ]
  },
  {
   "cell_type": "markdown",
   "metadata": {},
   "source": [
    "<h3>FOR MULTIPLICATION ENTER 1<br><br>\n",
    "FOR DIVISION ENTER 2<br><br>\n",
    "FOR ADDITION ENTER 3<br><br>\n",
    "FOR SUBTRACTION ENTER 4<br><br>\n",
    "FOR REDUCTION ENTER 5<br><br>\n",
    "FOR FRACTIONS ENTER 6</h3>\n",
    "<h4><li>ENTER FRACTIONS USING THIS FORMAT -> 1/2 OR 2/4 </li></h4>"
   ]
  },
  {
   "cell_type": "code",
   "execution_count": null,
   "metadata": {},
   "outputs": [],
   "source": [
    "start_calc()"
   ]
  }
 ],
 "metadata": {
  "kernelspec": {
   "display_name": "Python 3",
   "language": "python",
   "name": "python3"
  },
  "language_info": {
   "codemirror_mode": {
    "name": "ipython",
    "version": 3
   },
   "file_extension": ".py",
   "mimetype": "text/x-python",
   "name": "python",
   "nbconvert_exporter": "python",
   "pygments_lexer": "ipython3",
   "version": "3.7.1"
  }
 },
 "nbformat": 4,
 "nbformat_minor": 2
}
